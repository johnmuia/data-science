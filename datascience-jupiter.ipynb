{
 "cells": [
  {
   "cell_type": "code",
   "execution_count": null,
   "metadata": {},
   "outputs": [],
   "source": [
    "import numpy as np\n",
    "import matplotlib.pyplot as plt\n",
    "# if using a Jupyter notebook, include:\n",
    "\n",
    "\n",
    "# 2. Define data\n",
    "x = np.arange(0, 4 * np.pi, 0.2)\n",
    "y = np.sin(x)\n",
    "\n",
    "# 3. Plot data including options\n",
    "plt.plot(x, y,\n",
    "    linewidth=0.5,\n",
    "    linestyle='--',\n",
    "    color='r',\n",
    "    marker='o',\n",
    "    markersize=10,\n",
    "    markerfacecolor=(1, 0, 0, 0.1))\n",
    "\n",
    "# 4. Add plot details\n",
    "plt.title('Plot of sin(x) vs x from 0 to 4 pi')\n",
    "plt.xlabel('x (0 to 4 pi)')\n",
    "plt.ylabel('sin(x)')\n",
    "plt.legend(['sin(x)']) # list containing one string\n",
    "plt.xticks(\n",
    "    np.arange(0, 4*np.pi + np.pi/2, np.pi/2),\n",
    "    ['0','pi/2','pi','3pi/2','2pi','5pi/2','3pi','7pi/2','4pi'])\n",
    "plt.grid(True)\n",
    "\n",
    "# 5. Show the plot\n",
    "plt.show()\n"
   ]
  }
 ],
 "metadata": {
  "interpreter": {
   "hash": "31f2aee4e71d21fbe5cf8b01ff0e069b9275f58929596ceb00d14d90e3e16cd6"
  },
  "kernelspec": {
   "display_name": "Python 3.8.10 64-bit",
   "name": "python3"
  },
  "language_info": {
   "name": "python",
   "version": "3.8.10"
  },
  "orig_nbformat": 4
 },
 "nbformat": 4,
 "nbformat_minor": 2
}
